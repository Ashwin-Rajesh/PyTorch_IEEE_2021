{
  "nbformat": 4,
  "nbformat_minor": 0,
  "metadata": {
    "colab": {
      "name": "basic_pytorch.ipynb",
      "provenance": [],
      "collapsed_sections": [],
      "include_colab_link": true
    },
    "kernelspec": {
      "name": "python3",
      "display_name": "Python 3"
    },
    "language_info": {
      "name": "python"
    }
  },
  "cells": [
    {
      "cell_type": "markdown",
      "metadata": {
        "id": "view-in-github",
        "colab_type": "text"
      },
      "source": [
        "<a href=\"https://colab.research.google.com/github/Ashwin-Rajesh/PyTorch_IEEE_2021/blob/main/3_PytorchIntroduction.ipynb\" target=\"_parent\"><img src=\"https://colab.research.google.com/assets/colab-badge.svg\" alt=\"Open In Colab\"/></a>"
      ]
    },
    {
      "cell_type": "markdown",
      "metadata": {
        "id": "ZE8EtlHwd97R"
      },
      "source": [
        "# ** Pytorch basics **"
      ]
    },
    {
      "cell_type": "markdown",
      "metadata": {
        "id": "Z7E2qD6teN2f"
      },
      "source": [
        "INLCLUDING LIBRARY"
      ]
    },
    {
      "cell_type": "code",
      "metadata": {
        "id": "HbBlOFJUuM5Z"
      },
      "source": [
        "import matplotlib.pyplot as plt\n",
        "import numpy as np"
      ],
      "execution_count": 1,
      "outputs": []
    },
    {
      "cell_type": "code",
      "metadata": {
        "id": "QfenYku3eVxg"
      },
      "source": [
        "import torch   # we import the pytorch from torch library"
      ],
      "execution_count": 2,
      "outputs": []
    },
    {
      "cell_type": "code",
      "metadata": {
        "colab": {
          "base_uri": "https://localhost:8080/"
        },
        "id": "NpHg-IzuDDFi",
        "outputId": "eb6e2774-d925-458d-95d5-274aa5e73d74"
      },
      "source": [
        "# This is a library used for visualizing structures made in pytorch\n",
        "!pip install torchviz\n",
        "import torchviz"
      ],
      "execution_count": 3,
      "outputs": [
        {
          "output_type": "stream",
          "text": [
            "Collecting torchviz\n",
            "  Downloading https://files.pythonhosted.org/packages/79/e7/643808913211d6c1fc96a3a4333bf4c9276858fab00bcafaf98ea58a97be/torchviz-0.0.2.tar.gz\n",
            "Requirement already satisfied: torch in /usr/local/lib/python3.7/dist-packages (from torchviz) (1.8.1+cu101)\n",
            "Requirement already satisfied: graphviz in /usr/local/lib/python3.7/dist-packages (from torchviz) (0.10.1)\n",
            "Requirement already satisfied: typing-extensions in /usr/local/lib/python3.7/dist-packages (from torch->torchviz) (3.7.4.3)\n",
            "Requirement already satisfied: numpy in /usr/local/lib/python3.7/dist-packages (from torch->torchviz) (1.19.5)\n",
            "Building wheels for collected packages: torchviz\n",
            "  Building wheel for torchviz (setup.py) ... \u001b[?25l\u001b[?25hdone\n",
            "  Created wheel for torchviz: filename=torchviz-0.0.2-cp37-none-any.whl size=4152 sha256=46ec84cdf75edeca660089f048abf4a3ee8adaf922c9e27b06504d522e4b61f6\n",
            "  Stored in directory: /root/.cache/pip/wheels/01/26/58/026ffd533dbe8b3972eb423da9c7949beca68d1c98ed9e8624\n",
            "Successfully built torchviz\n",
            "Installing collected packages: torchviz\n",
            "Successfully installed torchviz-0.0.2\n"
          ],
          "name": "stdout"
        }
      ]
    },
    {
      "cell_type": "markdown",
      "metadata": {
        "id": "Kzwn25Evg2Xo"
      },
      "source": [
        "Pytorch uses a datatype called \"Tensor\". Theoretically, they refer to higher dimensional matrices (matrix conventionally refers to only 2 dimensions).\n",
        "\n",
        "The functions to create and act on different matrices is almost identical to numpy."
      ]
    },
    {
      "cell_type": "code",
      "metadata": {
        "colab": {
          "base_uri": "https://localhost:8080/"
        },
        "id": "a_AL4RSPjMUK",
        "outputId": "b6fccf71-f1b0-4bf1-9b03-c2e16b8b6b04"
      },
      "source": [
        "print(torch.ones(3,3))\n",
        "print(torch.zeros(3,3))\n",
        "print(torch.eye(5))"
      ],
      "execution_count": 4,
      "outputs": [
        {
          "output_type": "stream",
          "text": [
            "tensor([[1., 1., 1.],\n",
            "        [1., 1., 1.],\n",
            "        [1., 1., 1.]])\n",
            "tensor([[0., 0., 0.],\n",
            "        [0., 0., 0.],\n",
            "        [0., 0., 0.]])\n",
            "tensor([[1., 0., 0., 0., 0.],\n",
            "        [0., 1., 0., 0., 0.],\n",
            "        [0., 0., 1., 0., 0.],\n",
            "        [0., 0., 0., 1., 0.],\n",
            "        [0., 0., 0., 0., 1.]])\n"
          ],
          "name": "stdout"
        }
      ]
    },
    {
      "cell_type": "code",
      "metadata": {
        "id": "449TCd6YjgBN"
      },
      "source": [
        "a = torch.Tensor([[1, 2], [3, 4]])"
      ],
      "execution_count": 5,
      "outputs": []
    },
    {
      "cell_type": "code",
      "metadata": {
        "colab": {
          "base_uri": "https://localhost:8080/"
        },
        "id": "_VxbCVd8hXFj",
        "outputId": "525c042e-78c2-41a5-a7cc-fab0925532d8"
      },
      "source": [
        "print(a)\n",
        "\n",
        "print(a.square())"
      ],
      "execution_count": 7,
      "outputs": [
        {
          "output_type": "stream",
          "text": [
            "tensor([[1., 2.],\n",
            "        [3., 4.]])\n",
            "tensor([[ 1.,  4.],\n",
            "        [ 9., 16.]])\n"
          ],
          "name": "stdout"
        }
      ]
    },
    {
      "cell_type": "markdown",
      "metadata": {
        "id": "8TUF-hnDjrx6"
      },
      "source": [
        "---\n",
        "\n",
        "# Automatic differentiation\n",
        "\n",
        "The core component of pytorch that makes it so awesome is automatic differentiation."
      ]
    },
    {
      "cell_type": "code",
      "metadata": {
        "id": "jq6PEREhh8GR"
      },
      "source": [
        "a = torch.tensor(2., requires_grad=True)\n",
        "b = a ** 2"
      ],
      "execution_count": 18,
      "outputs": []
    },
    {
      "cell_type": "code",
      "metadata": {
        "colab": {
          "base_uri": "https://localhost:8080/"
        },
        "id": "GylSTITziC2S",
        "outputId": "2dfba8f8-b3ff-463c-a00d-48078591c883"
      },
      "source": [
        "print(a, b)"
      ],
      "execution_count": 19,
      "outputs": [
        {
          "output_type": "stream",
          "text": [
            "tensor(2., requires_grad=True) tensor(4., grad_fn=<PowBackward0>)\n"
          ],
          "name": "stdout"
        }
      ]
    },
    {
      "cell_type": "code",
      "metadata": {
        "colab": {
          "base_uri": "https://localhost:8080/"
        },
        "id": "vymYymvxiEDm",
        "outputId": "450d8612-9443-4e04-e166-b21b2772f800"
      },
      "source": [
        "b.backward()\n",
        "print(a.grad)"
      ],
      "execution_count": 10,
      "outputs": [
        {
          "output_type": "stream",
          "text": [
            "tensor(4.)\n"
          ],
          "name": "stdout"
        }
      ]
    },
    {
      "cell_type": "markdown",
      "metadata": {
        "id": "GGDft_yOiHMU"
      },
      "source": [
        "Whoa! What just happened!\n",
        "\n",
        "When we created b by ```b = a ** 2```, pytorch keeps track of this assignment. It notes down how we got b, that is, by squaring a.\n",
        "\n",
        "Now, when we run ```b.backward()```, pytorch begins to compute the derivatives. It sees that b is the square of a, so it now stores in a, the derivative evaluated at 2 (value currently in a). I.e,\n",
        "\n",
        "\\\\[ \\frac{d b}{d a}_{a=2} = {(2 \\times a)}_{a=2} = 4\\\\]\n",
        "\n",
        "Now, lets look at some more complicated examples"
      ]
    },
    {
      "cell_type": "code",
      "metadata": {
        "colab": {
          "base_uri": "https://localhost:8080/"
        },
        "id": "1uTtfBX9jqOD",
        "outputId": "62a0ddb1-8f9b-4b77-df54-c30ee52e2fb4"
      },
      "source": [
        "A = torch.tensor([[1, 2], [3, 4]], dtype=float, requires_grad=True)\n",
        "\n",
        "B = A.square()\n",
        "\n",
        "C = B.sum()\n",
        "\n",
        "print(\"Matrix A\")\n",
        "print(A)\n",
        "print()\n",
        "\n",
        "print(\"Matrix B\")\n",
        "print(B)\n",
        "print()\n",
        "\n",
        "print(\"Output C\")\n",
        "print(C)\n",
        "print()\n",
        "\n",
        "C.backward()\n",
        "\n",
        "print(\"Gradient of A\")\n",
        "print(A.grad)"
      ],
      "execution_count": 20,
      "outputs": [
        {
          "output_type": "stream",
          "text": [
            "Matrix A\n",
            "tensor([[1., 2.],\n",
            "        [3., 4.]], dtype=torch.float64, requires_grad=True)\n",
            "\n",
            "Matrix B\n",
            "tensor([[ 1.,  4.],\n",
            "        [ 9., 16.]], dtype=torch.float64, grad_fn=<PowBackward0>)\n",
            "\n",
            "Output C\n",
            "tensor(30., dtype=torch.float64, grad_fn=<SumBackward0>)\n",
            "\n",
            "Gradient of A\n",
            "tensor([[2., 4.],\n",
            "        [6., 8.]], dtype=torch.float64)\n"
          ],
          "name": "stdout"
        }
      ]
    },
    {
      "cell_type": "markdown",
      "metadata": {
        "id": "vnEg6TsKmu4_"
      },
      "source": [
        "Okay, so what was that?!\n",
        "\n",
        ">  First, we defined\n",
        "  ```python\n",
        "  A = torch.tensor([[1, 2], [3, 4]], dtype=float, requires_grad=True)\n",
        "  ```\n",
        "  $$\n",
        "    A = \n",
        "    \\begin{bmatrix}\n",
        "      a_{11} & a_{12} \\\\\n",
        "      a_{21} & a_{22}\n",
        "    \\end{bmatrix} \\\\\n",
        "  $$\n",
        "  Where\n",
        "  $$\n",
        "  a_{11} = 1, \\\\\n",
        "  a_{12} = 2, \\\\\n",
        "  a_{21} = 3, \\\\\n",
        "  a_{22} = 4\n",
        "  $$\n",
        "\n",
        ">  Then, we gave\n",
        "  ```python\n",
        "  B = A.square()\n",
        "  ```\n",
        "  $$\n",
        "    B =\n",
        "    \\begin{bmatrix}\n",
        "      {a_{11}}^2 & {a_{12}}^2 \\\\\n",
        "      {a_{21}}^2 & {a_{22}}^2\n",
        "    \\end{bmatrix}\n",
        "  $$\n",
        "\n",
        "> And finally,\n",
        "  ```python\n",
        "  C = B.sum()\n",
        "  ```\n",
        "  $$\n",
        "    C = b_{11} + b_{12} + b_{21} + b_{22} \\\\ \n",
        "    C = {a_{11}}^2 + {a_{12}}^2 + {a_{21}}^2 + {a_{22}}^2\n",
        "  $$\n",
        "\n",
        ">  When we give C.backward, pytorch backtracks the steps that were taken to reach C, and computes the derivative at each step. It stores\n",
        "  $$\n",
        "    A.grad =\n",
        "    \\begin{bmatrix}\n",
        "      \\frac{\\partial C}{\\partial a_{11}} & \\frac{\\partial C}{\\partial a_{12}} \\\\\n",
        "      \\frac{\\partial C}{\\partial a_{21}} & \\frac{\\partial C}{\\partial a_{22}}\n",
        "    \\end{bmatrix}\n",
        "    \\\\\n",
        "  $$\n",
        "  $$\n",
        "    A.grad = \n",
        "    \\begin{bmatrix}\n",
        "      2 \\times a_{11} & 2 \\times a_{12} \\\\\n",
        "      2 \\times a_{21} & 2 \\times a_{22}\n",
        "    \\end{bmatrix}\n",
        "  $$\n",
        "\n",
        "For doing this, pytorch maintains a graph "
      ]
    },
    {
      "cell_type": "markdown",
      "metadata": {
        "id": "t3TJNfvEqjzm"
      },
      "source": [
        "![Capture.PNG](data:image/png;base64,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)"
      ]
    },
    {
      "cell_type": "markdown",
      "metadata": {
        "id": "_CcS7AEvqrAk"
      },
      "source": [
        "(2,2) is the shape of the input and since the output C is a single value, its dimension is ().\n",
        "\n",
        "Ignore AccumulateGrad for now. We notice from the output before the fields ```grad_fn``` in tensors B and C. These are what are called during ```C.backwards()```"
      ]
    },
    {
      "cell_type": "markdown",
      "metadata": {
        "id": "IFGh0U_z_3y8"
      },
      "source": [
        "---\n",
        "# Some examples"
      ]
    },
    {
      "cell_type": "code",
      "metadata": {
        "colab": {
          "base_uri": "https://localhost:8080/"
        },
        "id": "G8t1nH7TrNWW",
        "outputId": "260a5861-9ae9-4e2d-dc99-f093983238d8"
      },
      "source": [
        "A  = torch.tensor([1, 2, 3], dtype=float, requires_grad=True)\n",
        "\n",
        "B1 = A ** 2\n",
        "B2 = A ** 3\n",
        "\n",
        "C1 = B1.sum()\n",
        "C2 = B2.sum()\n",
        "\n",
        "print(A)\n",
        "\n",
        "print(B1, C1)\n",
        "\n",
        "print(B2, C2)"
      ],
      "execution_count": null,
      "outputs": [
        {
          "output_type": "stream",
          "text": [
            "tensor([1., 2., 3.], dtype=torch.float64, requires_grad=True)\n",
            "tensor([1., 4., 9.], dtype=torch.float64, grad_fn=<PowBackward0>) tensor(14., dtype=torch.float64, grad_fn=<SumBackward0>)\n",
            "tensor([ 1.,  8., 27.], dtype=torch.float64, grad_fn=<PowBackward0>) tensor(36., dtype=torch.float64, grad_fn=<SumBackward0>)\n"
          ],
          "name": "stdout"
        }
      ]
    },
    {
      "cell_type": "code",
      "metadata": {
        "id": "K4WSzv_XCk9X"
      },
      "source": [
        "# These will throw an error if uncommented\n",
        "# C1.backward()\n",
        "# C1.backward()"
      ],
      "execution_count": null,
      "outputs": []
    },
    {
      "cell_type": "markdown",
      "metadata": {
        "id": "qGxeukDOCuAy"
      },
      "source": [
        "In the forward pass (B1 = A ** 2, C1 = B1.sum()), pytorch stores some cache variables to be used in the backward pass. These are deleted when the first backward pass is done. This creates some errors. To tell pytorch to keep those, use \n",
        "``` retain_graph=True ```"
      ]
    },
    {
      "cell_type": "code",
      "metadata": {
        "colab": {
          "base_uri": "https://localhost:8080/"
        },
        "id": "EEBMomwEAwWN",
        "outputId": "067c710a-ca60-4ef0-f21c-275c7d5e97b2"
      },
      "source": [
        "C1.backward(retain_graph=True)\n",
        "print(A.grad)\n",
        "\n",
        "C1.backward(retain_graph=True)\n",
        "print(A.grad)\n",
        "\n",
        "C1.backward(retain_graph=True)\n",
        "print(A.grad)"
      ],
      "execution_count": null,
      "outputs": [
        {
          "output_type": "stream",
          "text": [
            "tensor([ 8., 16., 24.], dtype=torch.float64)\n",
            "tensor([10., 20., 30.], dtype=torch.float64)\n",
            "tensor([12., 24., 36.], dtype=torch.float64)\n"
          ],
          "name": "stdout"
        }
      ]
    },
    {
      "cell_type": "markdown",
      "metadata": {
        "id": "PPMf4YhVBK8E"
      },
      "source": [
        "We can see that on every call, [2, 4, 6] is  added to A.grad.\n",
        "\n",
        "That is, every time a backward pass happens, A.grad accumulates.\n",
        "\n",
        "So, we must manually reset it if we want to see the gradient of a new value (like C2)"
      ]
    },
    {
      "cell_type": "code",
      "metadata": {
        "colab": {
          "base_uri": "https://localhost:8080/"
        },
        "id": "XbOLgFrjA34D",
        "outputId": "d7d478c2-cf7c-4f52-a753-68a97a1ffd0b"
      },
      "source": [
        "# Make A.grad zero\n",
        "A.grad.zero_()"
      ],
      "execution_count": null,
      "outputs": [
        {
          "output_type": "execute_result",
          "data": {
            "text/plain": [
              "tensor([0., 0., 0.], dtype=torch.float64)"
            ]
          },
          "metadata": {
            "tags": []
          },
          "execution_count": 93
        }
      ]
    },
    {
      "cell_type": "code",
      "metadata": {
        "colab": {
          "base_uri": "https://localhost:8080/"
        },
        "id": "DhGnxJM9BUaM",
        "outputId": "c4fe7f15-df1e-4174-a796-54511ac126f3"
      },
      "source": [
        "C1.backward(retain_graph=True)\n",
        "print(A.grad)\n",
        "\n",
        "A.grad.zero_()\n",
        "\n",
        "C2.backward(retain_graph=True)\n",
        "print(A.grad)"
      ],
      "execution_count": null,
      "outputs": [
        {
          "output_type": "stream",
          "text": [
            "tensor([14., 28., 42.], dtype=torch.float64)\n",
            "tensor([ 3., 12., 27.], dtype=torch.float64)\n"
          ],
          "name": "stdout"
        }
      ]
    },
    {
      "cell_type": "markdown",
      "metadata": {
        "id": "olPUM5pXTF2y"
      },
      "source": [
        "If we do not want to compute the gradient for leaf nodes, that is possible too."
      ]
    },
    {
      "cell_type": "code",
      "metadata": {
        "colab": {
          "base_uri": "https://localhost:8080/"
        },
        "id": "UKAAID2oTEcF",
        "outputId": "fc3bcbac-2f3b-43f8-8754-c8776fbc624b"
      },
      "source": [
        "A.requires_grad = False\n",
        "\n",
        "A.grad.zero_()\n",
        "C1.backward(retain_graph=True)\n",
        "print(A.grad)"
      ],
      "execution_count": null,
      "outputs": [
        {
          "output_type": "stream",
          "text": [
            "tensor([0., 0., 0.], dtype=torch.float64)\n"
          ],
          "name": "stdout"
        }
      ]
    },
    {
      "cell_type": "markdown",
      "metadata": {
        "id": "QAqOvabYUa7I"
      },
      "source": [
        "Since in neural networks, if gradient = 0, the parameter does not change, we can do this for parameters that we do not want to train in a network. This is called \"freezing parts of a network\""
      ]
    },
    {
      "cell_type": "code",
      "metadata": {
        "colab": {
          "base_uri": "https://localhost:8080/",
          "height": 417
        },
        "id": "CTkkjBKKUyx_",
        "outputId": "6983830a-d0d1-43ff-84df-dd8851cb6dc4"
      },
      "source": [
        "X1 = torch.tensor([1, 2, 3],  dtype=float, requires_grad=True)\n",
        "X2 = torch.tensor([10,20,30], dtype=float, requires_grad=True)\n",
        "\n",
        "Y  = torch.mean(X1 + X2)\n",
        "\n",
        "Y.backward()\n",
        "\n",
        "print(X1.grad)\n",
        "print(X2.grad)\n",
        "\n",
        "torchviz.make_dot(Y)"
      ],
      "execution_count": 22,
      "outputs": [
        {
          "output_type": "stream",
          "text": [
            "tensor([0.3333, 0.3333, 0.3333], dtype=torch.float64)\n",
            "tensor([0.3333, 0.3333, 0.3333], dtype=torch.float64)\n"
          ],
          "name": "stdout"
        },
        {
          "output_type": "execute_result",
          "data": {
            "text/plain": [
              "<graphviz.dot.Digraph at 0x7f5a9b59eb90>"
            ],
            "image/svg+xml": "<?xml version=\"1.0\" encoding=\"UTF-8\" standalone=\"no\"?>\n<!DOCTYPE svg PUBLIC \"-//W3C//DTD SVG 1.1//EN\"\n \"http://www.w3.org/Graphics/SVG/1.1/DTD/svg11.dtd\">\n<!-- Generated by graphviz version 2.40.1 (20161225.0304)\n -->\n<!-- Title: %3 Pages: 1 -->\n<svg width=\"228pt\" height=\"271pt\"\n viewBox=\"0.00 0.00 228.00 271.00\" xmlns=\"http://www.w3.org/2000/svg\" xmlns:xlink=\"http://www.w3.org/1999/xlink\">\n<g id=\"graph0\" class=\"graph\" transform=\"scale(1 1) rotate(0) translate(4 267)\">\n<title>%3</title>\n<polygon fill=\"#ffffff\" stroke=\"transparent\" points=\"-4,4 -4,-267 224,-267 224,4 -4,4\"/>\n<!-- 140027130297152 -->\n<g id=\"node1\" class=\"node\">\n<title>140027130297152</title>\n<polygon fill=\"#caff70\" stroke=\"#000000\" points=\"136.5,-31 82.5,-31 82.5,0 136.5,0 136.5,-31\"/>\n<text text-anchor=\"middle\" x=\"109.5\" y=\"-7\" font-family=\"monospace\" font-size=\"10.00\" fill=\"#000000\"> ()</text>\n</g>\n<!-- 140027130145040 -->\n<g id=\"node2\" class=\"node\">\n<title>140027130145040</title>\n<polygon fill=\"#d3d3d3\" stroke=\"#000000\" points=\"157,-86 62,-86 62,-67 157,-67 157,-86\"/>\n<text text-anchor=\"middle\" x=\"109.5\" y=\"-74\" font-family=\"monospace\" font-size=\"10.00\" fill=\"#000000\">MeanBackward0</text>\n</g>\n<!-- 140027130145040&#45;&gt;140027130297152 -->\n<g id=\"edge6\" class=\"edge\">\n<title>140027130145040&#45;&gt;140027130297152</title>\n<path fill=\"none\" stroke=\"#000000\" d=\"M109.5,-66.9688C109.5,-60.1289 109.5,-50.5621 109.5,-41.5298\"/>\n<polygon fill=\"#000000\" stroke=\"#000000\" points=\"113.0001,-41.3678 109.5,-31.3678 106.0001,-41.3678 113.0001,-41.3678\"/>\n</g>\n<!-- 140027130144336 -->\n<g id=\"node3\" class=\"node\">\n<title>140027130144336</title>\n<polygon fill=\"#d3d3d3\" stroke=\"#000000\" points=\"154,-141 65,-141 65,-122 154,-122 154,-141\"/>\n<text text-anchor=\"middle\" x=\"109.5\" y=\"-129\" font-family=\"monospace\" font-size=\"10.00\" fill=\"#000000\">AddBackward0</text>\n</g>\n<!-- 140027130144336&#45;&gt;140027130145040 -->\n<g id=\"edge1\" class=\"edge\">\n<title>140027130144336&#45;&gt;140027130145040</title>\n<path fill=\"none\" stroke=\"#000000\" d=\"M109.5,-121.9197C109.5,-114.9083 109.5,-105.1442 109.5,-96.4652\"/>\n<polygon fill=\"#000000\" stroke=\"#000000\" points=\"113.0001,-96.3408 109.5,-86.3408 106.0001,-96.3409 113.0001,-96.3408\"/>\n</g>\n<!-- 140027130146384 -->\n<g id=\"node4\" class=\"node\">\n<title>140027130146384</title>\n<polygon fill=\"#d3d3d3\" stroke=\"#000000\" points=\"101,-196 0,-196 0,-177 101,-177 101,-196\"/>\n<text text-anchor=\"middle\" x=\"50.5\" y=\"-184\" font-family=\"monospace\" font-size=\"10.00\" fill=\"#000000\">AccumulateGrad</text>\n</g>\n<!-- 140027130146384&#45;&gt;140027130144336 -->\n<g id=\"edge2\" class=\"edge\">\n<title>140027130146384&#45;&gt;140027130144336</title>\n<path fill=\"none\" stroke=\"#000000\" d=\"M60.777,-176.9197C69.2176,-169.0514 81.377,-157.7164 91.4369,-148.3385\"/>\n<polygon fill=\"#000000\" stroke=\"#000000\" points=\"94.0154,-150.7198 98.9435,-141.3408 89.2422,-145.5995 94.0154,-150.7198\"/>\n</g>\n<!-- 140027130685552 -->\n<g id=\"node5\" class=\"node\">\n<title>140027130685552</title>\n<polygon fill=\"#add8e6\" stroke=\"#000000\" points=\"77.5,-263 23.5,-263 23.5,-232 77.5,-232 77.5,-263\"/>\n<text text-anchor=\"middle\" x=\"50.5\" y=\"-239\" font-family=\"monospace\" font-size=\"10.00\" fill=\"#000000\"> (3)</text>\n</g>\n<!-- 140027130685552&#45;&gt;140027130146384 -->\n<g id=\"edge3\" class=\"edge\">\n<title>140027130685552&#45;&gt;140027130146384</title>\n<path fill=\"none\" stroke=\"#000000\" d=\"M50.5,-231.791C50.5,-224.0249 50.5,-214.5706 50.5,-206.3129\"/>\n<polygon fill=\"#000000\" stroke=\"#000000\" points=\"54.0001,-206.0647 50.5,-196.0648 47.0001,-206.0648 54.0001,-206.0647\"/>\n</g>\n<!-- 140027130144848 -->\n<g id=\"node6\" class=\"node\">\n<title>140027130144848</title>\n<polygon fill=\"#d3d3d3\" stroke=\"#000000\" points=\"220,-196 119,-196 119,-177 220,-177 220,-196\"/>\n<text text-anchor=\"middle\" x=\"169.5\" y=\"-184\" font-family=\"monospace\" font-size=\"10.00\" fill=\"#000000\">AccumulateGrad</text>\n</g>\n<!-- 140027130144848&#45;&gt;140027130144336 -->\n<g id=\"edge4\" class=\"edge\">\n<title>140027130144848&#45;&gt;140027130144336</title>\n<path fill=\"none\" stroke=\"#000000\" d=\"M159.0488,-176.9197C150.4651,-169.0514 138.0997,-157.7164 127.8693,-148.3385\"/>\n<polygon fill=\"#000000\" stroke=\"#000000\" points=\"129.9721,-145.5181 120.2355,-141.3408 125.242,-150.6782 129.9721,-145.5181\"/>\n</g>\n<!-- 140027130355376 -->\n<g id=\"node7\" class=\"node\">\n<title>140027130355376</title>\n<polygon fill=\"#add8e6\" stroke=\"#000000\" points=\"196.5,-263 142.5,-263 142.5,-232 196.5,-232 196.5,-263\"/>\n<text text-anchor=\"middle\" x=\"169.5\" y=\"-239\" font-family=\"monospace\" font-size=\"10.00\" fill=\"#000000\"> (3)</text>\n</g>\n<!-- 140027130355376&#45;&gt;140027130144848 -->\n<g id=\"edge5\" class=\"edge\">\n<title>140027130355376&#45;&gt;140027130144848</title>\n<path fill=\"none\" stroke=\"#000000\" d=\"M169.5,-231.791C169.5,-224.0249 169.5,-214.5706 169.5,-206.3129\"/>\n<polygon fill=\"#000000\" stroke=\"#000000\" points=\"173.0001,-206.0647 169.5,-196.0648 166.0001,-206.0648 173.0001,-206.0647\"/>\n</g>\n</g>\n</svg>\n"
          },
          "metadata": {
            "tags": []
          },
          "execution_count": 22
        }
      ]
    },
    {
      "cell_type": "markdown",
      "metadata": {
        "id": "jaxUdR2WXV5d"
      },
      "source": [
        "Sometimes, we want to do stuff with the original variable without affecting the gradient computation. For this, we use detach() which creates a copy with gradient disabled"
      ]
    },
    {
      "cell_type": "code",
      "metadata": {
        "colab": {
          "base_uri": "https://localhost:8080/"
        },
        "id": "aNE3tUfdW1Rd",
        "outputId": "dfbfba79-7128-4e83-b508-bb82722263ec"
      },
      "source": [
        "print(X1)\n",
        "print(X1.requires_grad)\n",
        "print(X1.grad)"
      ],
      "execution_count": 26,
      "outputs": [
        {
          "output_type": "stream",
          "text": [
            "tensor([10.,  2.,  3.], dtype=torch.float64, requires_grad=True)\n",
            "True\n",
            "tensor([0.3333, 0.3333, 0.3333], dtype=torch.float64)\n"
          ],
          "name": "stdout"
        }
      ]
    },
    {
      "cell_type": "code",
      "metadata": {
        "colab": {
          "base_uri": "https://localhost:8080/"
        },
        "id": "epNMVSe3W4_N",
        "outputId": "1a065b71-0051-4db8-8e05-2b7a8390eed4"
      },
      "source": [
        "X1_detach = X1.detach()\n",
        "print(X1_detach)\n",
        "print(X1_detach.requires_grad)\n",
        "print(X1_detach.grad)"
      ],
      "execution_count": 27,
      "outputs": [
        {
          "output_type": "stream",
          "text": [
            "tensor([10.,  2.,  3.], dtype=torch.float64)\n",
            "False\n",
            "None\n"
          ],
          "name": "stdout"
        }
      ]
    },
    {
      "cell_type": "code",
      "metadata": {
        "id": "nVpQFP0kp74Y"
      },
      "source": [
        "# This function plots the function and the gradient of the function\n",
        "def plot_gradient(func, start, end):\n",
        "  inp = torch.linspace(start, end, 100)\n",
        "  inp.requires_grad = True\n",
        "  \n",
        "  out = func(inp)\n",
        "\n",
        "  out.sum().backward()\n",
        "  \n",
        "  plt.plot(inp.detach().numpy(), out.detach().numpy(), label=func.__name__)\n",
        "  plt.plot(inp.detach().numpy(), inp.grad.detach().numpy(), label=\"Gradient of %s\"%(func.__name__))\n",
        "  plt.legend()\n",
        "  plt.show()"
      ],
      "execution_count": null,
      "outputs": []
    },
    {
      "cell_type": "code",
      "metadata": {
        "id": "arT_3lXwuGxC",
        "colab": {
          "base_uri": "https://localhost:8080/",
          "height": 265
        },
        "outputId": "1f5a018f-9de1-444a-b188-9ebabab4d2df"
      },
      "source": [
        "plot_gradient(torch.sin, 0, 10)"
      ],
      "execution_count": null,
      "outputs": [
        {
          "output_type": "display_data",
          "data": {
            "image/png": "[encoded data removed]",
            "text/plain": [
              "<Figure size 432x288 with 1 Axes>"
            ]
          },
          "metadata": {
            "tags": [],
            "needs_background": "light"
          }
        }
      ]
    },
    {
      "cell_type": "markdown",
      "metadata": {
        "id": "nWRQEv0lxLaG"
      },
      "source": [
        "---\n",
        "\n",
        "# Example for linear regression"
      ]
    }
  ]
}